{
 "cells": [
  {
   "cell_type": "markdown",
   "metadata": {},
   "source": [
    "# WeatherPy\n",
    "----\n",
    "The below study looks at the correlation of latitude and various weather measurements including max temp, cloudiness, and wind speed.  The data consists of over 500 randomly selected cities from around the world.  The data is broken up by hemisphere in the latter studies. \n",
    "\n",
    "\n",
    "#### Analysis and Observations\n",
    "- The stongest correlation over the study of data was that for the latitude and max temps in the Northern Hemisphere. The r-value was .68 for this study, which is the strongest postiive correlation we saw. \n",
    "\n",
    "\n",
    "- General observations were as expected with the max temperatures decreasing as you moved away from the equator. \n",
    "\n",
    "\n",
    "- Wind speeds and cloud cover have a very week, if none, correlation to latitude in both the Northern and Southern hemispheres. The data in these studies had clusters around the common outputs of 100% cloudy, 0% cloudy, and wind speeds less than 10mph. "
   ]
  },
  {
   "cell_type": "code",
   "execution_count": 66,
   "metadata": {
    "scrolled": true
   },
   "outputs": [],
   "source": [
    "#import dependencies\n",
    "import pandas as pd\n",
    "import numpy as np\n",
    "import matplotlib.pyplot as plt\n",
    "import requests\n",
    "from citipy import citipy\n",
    "from scipy.stats import linregress\n",
    "from sklearn import datasets\n",
    "\n",
    "\n",
    "api_key=\"e9f34fe30c3508b1804ca865ed96b3b4\"\n",
    "temp_units=\"imperial\""
   ]
  },
  {
   "cell_type": "code",
   "execution_count": 49,
   "metadata": {},
   "outputs": [],
   "source": [
    "# Create an output\n",
    "output_data_file = \"../output_data/weather_df.csv\"\n",
    "\n",
    "#Set Latitudes and Longitudes\n",
    "lat_range = (-90, 90)\n",
    "lng_range = (-180, 180)\n",
    "\n",
    "# define url\n",
    "query_url = f\"http://api.openweathermap.org/data/2.5/weather?appid={api_key}&units={temp_units}&q=\"\n",
    "\n",
    "# define count of pass throughs\n",
    "count_one = 0\n",
    "set_one = 1"
   ]
  },
  {
   "cell_type": "markdown",
   "metadata": {},
   "source": [
    "## Generate Cities List"
   ]
  },
  {
   "cell_type": "code",
   "execution_count": 13,
   "metadata": {},
   "outputs": [
    {
     "data": {
      "text/plain": [
       "532"
      ]
     },
     "execution_count": 13,
     "metadata": {},
     "output_type": "execute_result"
    }
   ],
   "source": [
    "#Create lists to hold values\n",
    "lat_lngs = []\n",
    "cities = []\n",
    "\n",
    "# Create a set of random lat and lng combinations\n",
    "lats = np.random.uniform(low=-90.000, high=90.000, size=1200)\n",
    "lngs = np.random.uniform(low=-180.000, high=180.000, size=1200)\n",
    "lat_lngs = zip(lats, lngs)\n",
    "\n",
    "# Find cities from citipy\n",
    "for lat_lng in lat_lngs:\n",
    "    city = citipy.nearest_city(lat_lng[0], lat_lng[1]).city_name\n",
    "    \n",
    "# If the city is unique, then add it to a our cities list\n",
    "    if city not in cities:\n",
    "        cities.append(city)\n",
    "\n",
    "# Make sure you have at least 500 cities\n",
    "len(cities)"
   ]
  },
  {
   "cell_type": "markdown",
   "metadata": {},
   "source": [
    "### Perform API Calls\n",
    "* Perform a weather check on each city using a series of successive API calls.\n",
    "* Include a print log of each city as it'sbeing processed (with the city number and city name).\n"
   ]
  },
  {
   "cell_type": "code",
   "execution_count": 14,
   "metadata": {},
   "outputs": [
    {
     "name": "stdout",
     "output_type": "stream",
     "text": [
      "Processing Record 1 of Set 1 | butaritari\n",
      "Processing Record 2 of Set 1 | bengkulu\n",
      "Processing Record 3 of Set 1 | rikitea\n",
      "Processing Record 4 of Set 1 | mehamn\n",
      "City not found. Skipping...\n",
      "Processing Record 5 of Set 1 | lagoa\n",
      "Processing Record 6 of Set 1 | mys shmidta\n",
      "Processing Record 7 of Set 1 | dikson\n",
      "Processing Record 8 of Set 1 | tinskoy\n",
      "City not found. Skipping...\n",
      "City not found. Skipping...\n",
      "Processing Record 9 of Set 1 | avarua\n",
      "Processing Record 10 of Set 1 | tuktoyaktuk\n",
      "Processing Record 11 of Set 1 | tiksi\n",
      "Processing Record 12 of Set 1 | dingle\n",
      "Processing Record 13 of Set 1 | farafangana\n",
      "Processing Record 14 of Set 1 | castro\n",
      "Processing Record 15 of Set 1 | saint-augustin\n",
      "Processing Record 16 of Set 1 | busselton\n",
      "Processing Record 17 of Set 1 | ballina\n",
      "Processing Record 18 of Set 1 | comodoro rivadavia\n",
      "Processing Record 19 of Set 1 | half moon bay\n",
      "Processing Record 20 of Set 1 | atar\n",
      "Processing Record 21 of Set 1 | palana\n",
      "Processing Record 22 of Set 1 | albany\n",
      "City not found. Skipping...\n",
      "Processing Record 23 of Set 1 | rio grande\n",
      "Processing Record 24 of Set 1 | rivadavia\n",
      "Processing Record 25 of Set 1 | gore\n",
      "Processing Record 26 of Set 1 | hobyo\n",
      "Processing Record 27 of Set 1 | miandrivazo\n",
      "Processing Record 28 of Set 1 | merauke\n",
      "Processing Record 29 of Set 1 | trud\n",
      "Processing Record 30 of Set 1 | vaini\n",
      "Processing Record 31 of Set 1 | khash\n",
      "City not found. Skipping...\n",
      "Processing Record 32 of Set 1 | havre-saint-pierre\n",
      "Processing Record 33 of Set 1 | yarkovo\n",
      "Processing Record 34 of Set 1 | kokstad\n",
      "Processing Record 35 of Set 1 | qaanaaq\n",
      "Processing Record 36 of Set 1 | buala\n",
      "Processing Record 37 of Set 1 | ushuaia\n",
      "Processing Record 38 of Set 1 | hilo\n",
      "Processing Record 39 of Set 1 | axim\n",
      "Processing Record 40 of Set 1 | rio gallegos\n",
      "Processing Record 41 of Set 1 | guerrero negro\n",
      "City not found. Skipping...\n",
      "Processing Record 42 of Set 1 | tasiilaq\n",
      "City not found. Skipping...\n",
      "Processing Record 43 of Set 1 | tiznit\n",
      "Processing Record 44 of Set 1 | provideniya\n",
      "City not found. Skipping...\n",
      "Processing Record 45 of Set 1 | atuona\n",
      "Processing Record 46 of Set 1 | carauari\n",
      "Processing Record 47 of Set 1 | victoria\n",
      "Processing Record 48 of Set 1 | punta arenas\n",
      "City not found. Skipping...\n",
      "Processing Record 49 of Set 1 | rawson\n",
      "Processing Record 1 of Set 2 | esperance\n",
      "Processing Record 2 of Set 2 | hobart\n",
      "Processing Record 3 of Set 2 | thompson\n",
      "Processing Record 4 of Set 2 | saint-pierre\n",
      "Processing Record 5 of Set 2 | svetlogorsk\n",
      "Processing Record 6 of Set 2 | garden city\n",
      "Processing Record 7 of Set 2 | dwarka\n",
      "Processing Record 8 of Set 2 | mahanoro\n",
      "Processing Record 9 of Set 2 | chokurdakh\n",
      "Processing Record 10 of Set 2 | cape town\n",
      "Processing Record 11 of Set 2 | marzuq\n",
      "Processing Record 12 of Set 2 | bluff\n",
      "Processing Record 13 of Set 2 | tanete\n",
      "City not found. Skipping...\n",
      "Processing Record 14 of Set 2 | karacabey\n",
      "Processing Record 15 of Set 2 | saskylakh\n",
      "Processing Record 16 of Set 2 | vestmannaeyjar\n",
      "City not found. Skipping...\n",
      "Processing Record 17 of Set 2 | luderitz\n",
      "Processing Record 18 of Set 2 | kurumkan\n",
      "Processing Record 19 of Set 2 | tura\n",
      "Processing Record 20 of Set 2 | sambava\n",
      "Processing Record 21 of Set 2 | hami\n",
      "Processing Record 22 of Set 2 | istria\n",
      "Processing Record 23 of Set 2 | jamestown\n",
      "Processing Record 24 of Set 2 | mataura\n",
      "Processing Record 25 of Set 2 | geraldton\n",
      "Processing Record 26 of Set 2 | sechura\n",
      "Processing Record 27 of Set 2 | mweka\n",
      "Processing Record 28 of Set 2 | nyurba\n",
      "Processing Record 29 of Set 2 | komsomolskiy\n",
      "Processing Record 30 of Set 2 | bambous virieux\n",
      "Processing Record 31 of Set 2 | new norfolk\n",
      "City not found. Skipping...\n",
      "Processing Record 32 of Set 2 | kalangala\n",
      "Processing Record 33 of Set 2 | richards bay\n",
      "Processing Record 34 of Set 2 | singaparna\n",
      "Processing Record 35 of Set 2 | kumba\n",
      "Processing Record 36 of Set 2 | pirai do sul\n",
      "Processing Record 37 of Set 2 | chato\n",
      "Processing Record 38 of Set 2 | benguela\n",
      "Processing Record 39 of Set 2 | arraial do cabo\n",
      "Processing Record 40 of Set 2 | sao felix do xingu\n",
      "Processing Record 41 of Set 2 | sept-iles\n",
      "Processing Record 42 of Set 2 | ayorou\n",
      "Processing Record 43 of Set 2 | mackay\n",
      "Processing Record 44 of Set 2 | lebu\n",
      "Processing Record 45 of Set 2 | bredasdorp\n",
      "Processing Record 46 of Set 2 | champerico\n",
      "Processing Record 47 of Set 2 | matagami\n",
      "Processing Record 48 of Set 2 | dahra\n",
      "Processing Record 49 of Set 2 | labuhan\n",
      "Processing Record 1 of Set 3 | caravelas\n",
      "Processing Record 2 of Set 3 | acarau\n",
      "Processing Record 3 of Set 3 | port elizabeth\n",
      "Processing Record 4 of Set 3 | chapais\n",
      "Processing Record 5 of Set 3 | byron bay\n",
      "Processing Record 6 of Set 3 | yeppoon\n",
      "Processing Record 7 of Set 3 | huilong\n",
      "Processing Record 8 of Set 3 | berbera\n",
      "Processing Record 9 of Set 3 | bonavista\n",
      "Processing Record 10 of Set 3 | pevek\n",
      "Processing Record 11 of Set 3 | grand river south east\n",
      "Processing Record 12 of Set 3 | puerto escondido\n",
      "Processing Record 13 of Set 3 | cariamanga\n",
      "Processing Record 14 of Set 3 | rockhampton\n",
      "Processing Record 15 of Set 3 | svetlaya\n",
      "Processing Record 16 of Set 3 | souillac\n",
      "Processing Record 17 of Set 3 | bayan\n",
      "Processing Record 18 of Set 3 | clyde river\n",
      "Processing Record 19 of Set 3 | port alfred\n",
      "Processing Record 20 of Set 3 | kieta\n",
      "Processing Record 21 of Set 3 | hasaki\n",
      "Processing Record 22 of Set 3 | yellowknife\n",
      "Processing Record 23 of Set 3 | singleton\n",
      "Processing Record 24 of Set 3 | hamilton\n",
      "Processing Record 25 of Set 3 | ilhabela\n",
      "Processing Record 26 of Set 3 | tagab\n",
      "Processing Record 27 of Set 3 | meulaboh\n",
      "Processing Record 28 of Set 3 | mezen\n",
      "Processing Record 29 of Set 3 | yei\n",
      "Processing Record 30 of Set 3 | vila velha\n",
      "Processing Record 31 of Set 3 | muros\n",
      "Processing Record 32 of Set 3 | saint-georges\n",
      "Processing Record 33 of Set 3 | kaitangata\n",
      "Processing Record 34 of Set 3 | koulamoutou\n",
      "Processing Record 35 of Set 3 | tumaco\n",
      "Processing Record 36 of Set 3 | constitucion\n",
      "Processing Record 37 of Set 3 | chuy\n",
      "Processing Record 38 of Set 3 | georgetown\n",
      "Processing Record 39 of Set 3 | turukhansk\n",
      "Processing Record 40 of Set 3 | hermanus\n",
      "Processing Record 41 of Set 3 | rudsar\n",
      "Processing Record 42 of Set 3 | oliveira\n",
      "Processing Record 43 of Set 3 | kapit\n",
      "Processing Record 44 of Set 3 | malanje\n",
      "Processing Record 45 of Set 3 | san patricio\n",
      "Processing Record 46 of Set 3 | dagda\n",
      "City not found. Skipping...\n",
      "Processing Record 47 of Set 3 | taraz\n",
      "City not found. Skipping...\n",
      "Processing Record 48 of Set 3 | dehloran\n",
      "Processing Record 49 of Set 3 | egvekinot\n",
      "Processing Record 1 of Set 4 | dunedin\n",
      "Processing Record 2 of Set 4 | mahebourg\n",
      "Processing Record 3 of Set 4 | nikolskoye\n",
      "Processing Record 4 of Set 4 | hofn\n",
      "Processing Record 5 of Set 4 | wangaratta\n",
      "City not found. Skipping...\n",
      "Processing Record 6 of Set 4 | olafsvik\n",
      "Processing Record 7 of Set 4 | semirom\n",
      "Processing Record 8 of Set 4 | roma\n",
      "Processing Record 9 of Set 4 | hithadhoo\n",
      "Processing Record 10 of Set 4 | suntar\n",
      "Processing Record 11 of Set 4 | sicamous\n",
      "Processing Record 12 of Set 4 | baykit\n",
      "Processing Record 13 of Set 4 | san pedro\n",
      "Processing Record 14 of Set 4 | naze\n",
      "Processing Record 15 of Set 4 | bandarbeyla\n",
      "Processing Record 16 of Set 4 | ribeira grande\n",
      "Processing Record 17 of Set 4 | narsaq\n",
      "Processing Record 18 of Set 4 | hokitika\n",
      "Processing Record 19 of Set 4 | kavieng\n",
      "Processing Record 20 of Set 4 | igaci\n",
      "Processing Record 21 of Set 4 | kurilsk\n",
      "Processing Record 22 of Set 4 | eydhafushi\n",
      "Processing Record 23 of Set 4 | ostrovnoy\n",
      "Processing Record 24 of Set 4 | korla\n",
      "Processing Record 25 of Set 4 | port lincoln\n",
      "Processing Record 26 of Set 4 | amahai\n",
      "Processing Record 27 of Set 4 | khatanga\n",
      "Processing Record 28 of Set 4 | namanga\n",
      "Processing Record 29 of Set 4 | biak\n",
      "Processing Record 30 of Set 4 | punta alta\n",
      "Processing Record 31 of Set 4 | abu zabad\n",
      "City not found. Skipping...\n",
      "Processing Record 32 of Set 4 | bucak\n",
      "Processing Record 33 of Set 4 | cururupu\n",
      "Processing Record 34 of Set 4 | jurm\n",
      "Processing Record 35 of Set 4 | cockburn harbour\n",
      "Processing Record 36 of Set 4 | bay roberts\n",
      "Processing Record 37 of Set 4 | kapaa\n",
      "City not found. Skipping...\n",
      "Processing Record 38 of Set 4 | upernavik\n",
      "Processing Record 39 of Set 4 | can tho\n",
      "City not found. Skipping...\n",
      "Processing Record 40 of Set 4 | sioux lookout\n",
      "Processing Record 41 of Set 4 | fortuna\n"
     ]
    },
    {
     "name": "stdout",
     "output_type": "stream",
     "text": [
      "Processing Record 42 of Set 4 | laguna\n",
      "Processing Record 43 of Set 4 | sarangani\n",
      "Processing Record 44 of Set 4 | cidreira\n",
      "Processing Record 45 of Set 4 | kashi\n",
      "Processing Record 46 of Set 4 | weinsberg\n",
      "Processing Record 47 of Set 4 | ancud\n",
      "Processing Record 48 of Set 4 | katsuura\n",
      "Processing Record 49 of Set 4 | puerto ayora\n",
      "Processing Record 1 of Set 5 | severo-kurilsk\n",
      "Processing Record 2 of Set 5 | coihaique\n",
      "Processing Record 3 of Set 5 | port blair\n",
      "Processing Record 4 of Set 5 | izyaslav\n",
      "Processing Record 5 of Set 5 | emba\n",
      "Processing Record 6 of Set 5 | susangerd\n",
      "Processing Record 7 of Set 5 | bethel\n",
      "City not found. Skipping...\n",
      "Processing Record 8 of Set 5 | jackson\n",
      "Processing Record 9 of Set 5 | haines junction\n",
      "Processing Record 10 of Set 5 | sitka\n",
      "Processing Record 11 of Set 5 | naryan-mar\n",
      "Processing Record 12 of Set 5 | caetite\n",
      "Processing Record 13 of Set 5 | fairbanks\n",
      "City not found. Skipping...\n",
      "Processing Record 14 of Set 5 | mar del plata\n",
      "Processing Record 15 of Set 5 | lefka\n",
      "Processing Record 16 of Set 5 | college\n",
      "City not found. Skipping...\n",
      "Processing Record 17 of Set 5 | moranbah\n",
      "Processing Record 18 of Set 5 | longyearbyen\n",
      "Processing Record 19 of Set 5 | faanui\n",
      "Processing Record 20 of Set 5 | balkhash\n",
      "Processing Record 21 of Set 5 | espanola\n",
      "Processing Record 22 of Set 5 | carnarvon\n",
      "Processing Record 23 of Set 5 | monteiro\n",
      "Processing Record 24 of Set 5 | kaeo\n",
      "City not found. Skipping...\n",
      "City not found. Skipping...\n",
      "Processing Record 25 of Set 5 | san rafael\n",
      "Processing Record 26 of Set 5 | talnakh\n",
      "City not found. Skipping...\n",
      "Processing Record 27 of Set 5 | coquimbo\n",
      "City not found. Skipping...\n",
      "Processing Record 28 of Set 5 | wagar\n",
      "Processing Record 29 of Set 5 | kismayo\n",
      "Processing Record 30 of Set 5 | saint-philippe\n",
      "Processing Record 31 of Set 5 | muncar\n",
      "Processing Record 32 of Set 5 | hambantota\n",
      "Processing Record 33 of Set 5 | ayan\n",
      "City not found. Skipping...\n",
      "City not found. Skipping...\n",
      "Processing Record 34 of Set 5 | acapulco\n",
      "Processing Record 35 of Set 5 | klaksvik\n",
      "City not found. Skipping...\n",
      "Processing Record 36 of Set 5 | cherskiy\n",
      "Processing Record 37 of Set 5 | mul\n",
      "Processing Record 38 of Set 5 | ponta do sol\n",
      "Processing Record 39 of Set 5 | katangli\n",
      "Processing Record 40 of Set 5 | kruisfontein\n",
      "Processing Record 41 of Set 5 | jati\n",
      "Processing Record 42 of Set 5 | rimbey\n",
      "Processing Record 43 of Set 5 | kondinskoye\n",
      "Processing Record 44 of Set 5 | alyangula\n",
      "Processing Record 45 of Set 5 | barrow\n",
      "Processing Record 46 of Set 5 | otjimbingwe\n",
      "Processing Record 47 of Set 5 | havoysund\n",
      "City not found. Skipping...\n",
      "Processing Record 48 of Set 5 | tsumeb\n",
      "City not found. Skipping...\n",
      "Processing Record 49 of Set 5 | ponta delgada\n",
      "Processing Record 1 of Set 6 | fort nelson\n",
      "Processing Record 2 of Set 6 | alassio\n",
      "Processing Record 3 of Set 6 | nelson bay\n",
      "Processing Record 4 of Set 6 | kandi\n",
      "Processing Record 5 of Set 6 | fernandez\n",
      "Processing Record 6 of Set 6 | sistranda\n",
      "Processing Record 7 of Set 6 | basco\n",
      "Processing Record 8 of Set 6 | pitimbu\n",
      "Processing Record 9 of Set 6 | beloha\n",
      "Processing Record 10 of Set 6 | tungor\n",
      "Processing Record 11 of Set 6 | sur\n",
      "Processing Record 12 of Set 6 | yarada\n",
      "Processing Record 13 of Set 6 | maldonado\n",
      "City not found. Skipping...\n",
      "Processing Record 14 of Set 6 | port hedland\n",
      "Processing Record 15 of Set 6 | miri\n",
      "Processing Record 16 of Set 6 | maniitsoq\n",
      "Processing Record 17 of Set 6 | korem\n",
      "Processing Record 18 of Set 6 | adrar\n",
      "Processing Record 19 of Set 6 | sao filipe\n",
      "Processing Record 20 of Set 6 | qaqortoq\n",
      "Processing Record 21 of Set 6 | dawlatabad\n",
      "Processing Record 22 of Set 6 | skibbereen\n",
      "Processing Record 23 of Set 6 | oriximina\n",
      "Processing Record 24 of Set 6 | iqaluit\n",
      "Processing Record 25 of Set 6 | atbasar\n",
      "Processing Record 26 of Set 6 | missoula\n",
      "City not found. Skipping...\n",
      "Processing Record 27 of Set 6 | gravdal\n",
      "Processing Record 28 of Set 6 | riyadh\n",
      "Processing Record 29 of Set 6 | ziarat\n",
      "Processing Record 30 of Set 6 | vila\n",
      "Processing Record 31 of Set 6 | balkanabat\n",
      "Processing Record 32 of Set 6 | kloulklubed\n",
      "Processing Record 33 of Set 6 | baturaja\n",
      "City not found. Skipping...\n",
      "Processing Record 34 of Set 6 | paramonga\n",
      "Processing Record 35 of Set 6 | cabo san lucas\n",
      "City not found. Skipping...\n",
      "City not found. Skipping...\n",
      "Processing Record 36 of Set 6 | portland\n",
      "Processing Record 37 of Set 6 | cairns\n",
      "Processing Record 38 of Set 6 | nanortalik\n",
      "Processing Record 39 of Set 6 | rocha\n",
      "Processing Record 40 of Set 6 | almeirim\n",
      "Processing Record 41 of Set 6 | usinsk\n",
      "Processing Record 42 of Set 6 | boulder\n",
      "City not found. Skipping...\n",
      "Processing Record 43 of Set 6 | bundaberg\n",
      "Processing Record 44 of Set 6 | san vicente\n",
      "Processing Record 45 of Set 6 | pisco\n",
      "City not found. Skipping...\n",
      "Processing Record 46 of Set 6 | san carlos\n",
      "Processing Record 47 of Set 6 | cotonou\n",
      "Processing Record 48 of Set 6 | moyale\n",
      "City not found. Skipping...\n",
      "Processing Record 49 of Set 6 | waipawa\n",
      "Processing Record 1 of Set 7 | moron\n",
      "Processing Record 2 of Set 7 | daru\n",
      "Processing Record 3 of Set 7 | huainan\n",
      "Processing Record 4 of Set 7 | suhbaatar\n",
      "Processing Record 5 of Set 7 | itabira\n",
      "Processing Record 6 of Set 7 | winnemucca\n",
      "Processing Record 7 of Set 7 | antofagasta\n",
      "Processing Record 8 of Set 7 | ler\n",
      "Processing Record 9 of Set 7 | halmstad\n",
      "Processing Record 10 of Set 7 | east london\n",
      "Processing Record 11 of Set 7 | kavaratti\n",
      "Processing Record 12 of Set 7 | bud\n",
      "Processing Record 13 of Set 7 | shimoda\n",
      "City not found. Skipping...\n",
      "Processing Record 14 of Set 7 | carnot\n",
      "City not found. Skipping...\n",
      "Processing Record 15 of Set 7 | digby\n",
      "Processing Record 16 of Set 7 | leningradskiy\n",
      "Processing Record 17 of Set 7 | karpogory\n",
      "Processing Record 18 of Set 7 | farah\n",
      "Processing Record 19 of Set 7 | telde\n",
      "Processing Record 20 of Set 7 | norman wells\n",
      "Processing Record 21 of Set 7 | aklavik\n",
      "Processing Record 22 of Set 7 | semey\n",
      "Processing Record 23 of Set 7 | fukue\n",
      "Processing Record 24 of Set 7 | poperinge\n",
      "Processing Record 25 of Set 7 | ahipara\n",
      "City not found. Skipping...\n",
      "City not found. Skipping...\n",
      "Processing Record 26 of Set 7 | heishan\n",
      "Processing Record 27 of Set 7 | straumen\n",
      "Processing Record 28 of Set 7 | mount gambier\n",
      "Processing Record 29 of Set 7 | santa cruz\n",
      "City not found. Skipping...\n",
      "Processing Record 30 of Set 7 | roald\n",
      "Processing Record 31 of Set 7 | yermish\n",
      "Processing Record 32 of Set 7 | ulaangom\n",
      "Processing Record 33 of Set 7 | torbay\n",
      "Processing Record 34 of Set 7 | summerside\n",
      "City not found. Skipping...\n",
      "Processing Record 35 of Set 7 | salalah\n",
      "City not found. Skipping...\n",
      "Processing Record 36 of Set 7 | pemangkat\n",
      "Processing Record 37 of Set 7 | avera\n",
      "Processing Record 38 of Set 7 | bardiyah\n",
      "Processing Record 39 of Set 7 | coxim\n",
      "Processing Record 40 of Set 7 | loralai\n",
      "Processing Record 41 of Set 7 | paysandu\n",
      "Processing Record 42 of Set 7 | mahibadhoo\n",
      "Processing Record 43 of Set 7 | victor harbor\n",
      "City not found. Skipping...\n",
      "Processing Record 44 of Set 7 | cayenne\n",
      "Processing Record 45 of Set 7 | phonhong\n",
      "Processing Record 46 of Set 7 | svit\n",
      "Processing Record 47 of Set 7 | boa vista\n",
      "Processing Record 48 of Set 7 | tokur\n",
      "Processing Record 49 of Set 7 | morant bay\n",
      "Processing Record 1 of Set 8 | coruripe\n",
      "Processing Record 2 of Set 8 | yumen\n",
      "Processing Record 3 of Set 8 | urdoma\n",
      "Processing Record 4 of Set 8 | mahajanga\n",
      "Processing Record 5 of Set 8 | lethem\n",
      "Processing Record 6 of Set 8 | dogondoutchi\n",
      "Processing Record 7 of Set 8 | aksarka\n",
      "Processing Record 8 of Set 8 | sorong\n",
      "Processing Record 9 of Set 8 | imbituba\n",
      "Processing Record 10 of Set 8 | marienburg\n",
      "Processing Record 11 of Set 8 | mangrol\n",
      "Processing Record 12 of Set 8 | tuatapere\n",
      "Processing Record 13 of Set 8 | lompoc\n",
      "Processing Record 14 of Set 8 | ampanihy\n",
      "City not found. Skipping...\n",
      "Processing Record 15 of Set 8 | noyabrsk\n",
      "Processing Record 16 of Set 8 | husavik\n",
      "Processing Record 17 of Set 8 | boddam\n",
      "Processing Record 18 of Set 8 | port hardy\n",
      "Processing Record 19 of Set 8 | taoudenni\n",
      "Processing Record 20 of Set 8 | christchurch\n",
      "Processing Record 21 of Set 8 | coahuayana\n",
      "Processing Record 22 of Set 8 | sao sebastiao\n",
      "Processing Record 23 of Set 8 | pozoblanco\n",
      "Processing Record 24 of Set 8 | cabra\n",
      "Processing Record 25 of Set 8 | nekrasovskaya\n",
      "Processing Record 26 of Set 8 | isetskoye\n",
      "Processing Record 27 of Set 8 | itabuna\n"
     ]
    },
    {
     "name": "stdout",
     "output_type": "stream",
     "text": [
      "Processing Record 28 of Set 8 | black river\n",
      "Processing Record 29 of Set 8 | krasnoselkup\n",
      "Processing Record 30 of Set 8 | amarante do maranhao\n",
      "Processing Record 31 of Set 8 | sosnovo-ozerskoye\n",
      "Processing Record 32 of Set 8 | zhanaozen\n",
      "Processing Record 33 of Set 8 | catumbela\n",
      "Processing Record 34 of Set 8 | garissa\n",
      "Processing Record 35 of Set 8 | zhuhai\n",
      "Processing Record 36 of Set 8 | yuli\n",
      "Processing Record 37 of Set 8 | casablanca\n",
      "Processing Record 38 of Set 8 | bambanglipuro\n",
      "Processing Record 39 of Set 8 | tahta\n",
      "City not found. Skipping...\n",
      "Processing Record 40 of Set 8 | pangnirtung\n",
      "Processing Record 41 of Set 8 | trelew\n",
      "Processing Record 42 of Set 8 | hinesburg\n",
      "City not found. Skipping...\n",
      "Processing Record 43 of Set 8 | margate\n",
      "Processing Record 44 of Set 8 | lavrentiya\n",
      "Processing Record 45 of Set 8 | ambon\n",
      "Processing Record 46 of Set 8 | kununurra\n",
      "Processing Record 47 of Set 8 | airai\n",
      "Processing Record 48 of Set 8 | jaicos\n",
      "Processing Record 49 of Set 8 | paciran\n",
      "Processing Record 1 of Set 9 | saldanha\n",
      "Processing Record 2 of Set 9 | srednekolymsk\n",
      "Processing Record 3 of Set 9 | bozuyuk\n",
      "Processing Record 4 of Set 9 | opuwo\n",
      "Processing Record 5 of Set 9 | chigorodo\n",
      "Processing Record 6 of Set 9 | zambezi\n",
      "Processing Record 7 of Set 9 | naivasha\n",
      "Processing Record 8 of Set 9 | kodiak\n",
      "Processing Record 9 of Set 9 | marsh harbour\n",
      "Processing Record 10 of Set 9 | lasa\n",
      "Processing Record 11 of Set 9 | lebork\n",
      "Processing Record 12 of Set 9 | lichinga\n",
      "City not found. Skipping...\n",
      "Processing Record 13 of Set 9 | palmer\n",
      "Processing Record 14 of Set 9 | atwater\n",
      "Processing Record 15 of Set 9 | auki\n",
      "Processing Record 16 of Set 9 | sao raimundo das mangabeiras\n",
      "Processing Record 17 of Set 9 | ilulissat\n",
      "Processing Record 18 of Set 9 | ust-maya\n",
      "Processing Record 19 of Set 9 | vardo\n",
      "City not found. Skipping...\n",
      "Processing Record 20 of Set 9 | marsabit\n",
      "Processing Record 21 of Set 9 | sao jose da coroa grande\n",
      "Processing Record 22 of Set 9 | payo\n",
      "Processing Record 23 of Set 9 | bage\n",
      "Processing Record 24 of Set 9 | beringovskiy\n",
      "Processing Record 25 of Set 9 | lerwick\n",
      "City not found. Skipping...\n",
      "City not found. Skipping...\n",
      "Processing Record 26 of Set 9 | aberystwyth\n",
      "Processing Record 27 of Set 9 | tilichiki\n",
      "City not found. Skipping...\n",
      "Processing Record 28 of Set 9 | bathsheba\n",
      "Processing Record 29 of Set 9 | onega\n",
      "City not found. Skipping...\n",
      "Processing Record 30 of Set 9 | manyana\n",
      "Processing Record 31 of Set 9 | tefe\n",
      "Processing Record 32 of Set 9 | florence\n",
      "Processing Record 33 of Set 9 | castle rock\n",
      "Processing Record 34 of Set 9 | ketchikan\n",
      "Processing Record 35 of Set 9 | samarai\n",
      "Processing Record 36 of Set 9 | paita\n",
      "Processing Record 37 of Set 9 | balsas\n",
      "Processing Record 38 of Set 9 | altay\n",
      "Processing Record 39 of Set 9 | santa maria do suacui\n",
      "Processing Record 40 of Set 9 | carballo\n",
      "Processing Record 41 of Set 9 | burnie\n",
      "City not found. Skipping...\n",
      "Processing Record 42 of Set 9 | belebey\n",
      "Processing Record 43 of Set 9 | tabou\n",
      "Processing Record 44 of Set 9 | kholmogory\n",
      "Processing Record 45 of Set 9 | yaring\n",
      "Processing Record 46 of Set 9 | novoanninskiy\n",
      "Processing Record 47 of Set 9 | sungai siput utara\n",
      "Processing Record 48 of Set 9 | jalu\n",
      "Processing Record 49 of Set 9 | bubaque\n",
      "City not found. Skipping...\n",
      "Processing Record 1 of Set 10 | lakatoro\n",
      "Processing Record 2 of Set 10 | codrington\n",
      "Processing Record 3 of Set 10 | lake cowichan\n",
      "Processing Record 4 of Set 10 | sao joao da barra\n",
      "Processing Record 5 of Set 10 | itacare\n",
      "Processing Record 6 of Set 10 | guhagar\n",
      "Processing Record 7 of Set 10 | shingu\n",
      "Processing Record 8 of Set 10 | salina\n",
      "Processing Record 9 of Set 10 | petropavlovsk-kamchatskiy\n",
      "Processing Record 10 of Set 10 | podporozhye\n",
      "Processing Record 11 of Set 10 | saint-leu\n",
      "Processing Record 12 of Set 10 | tatvan\n",
      "Processing Record 13 of Set 10 | videira\n",
      "Processing Record 14 of Set 10 | amapa\n",
      "Processing Record 15 of Set 10 | at-bashi\n",
      "Processing Record 16 of Set 10 | ivanivka\n",
      "Processing Record 17 of Set 10 | semnan\n",
      "Processing Record 18 of Set 10 | atyrau\n",
      "Processing Record 19 of Set 10 | castelnaudary\n",
      "Processing Record 20 of Set 10 | xuddur\n",
      "Processing Record 21 of Set 10 | basoko\n",
      "Processing Record 22 of Set 10 | lincoln\n",
      "Processing Record 23 of Set 10 | ozark\n",
      "Processing Record 24 of Set 10 | namibe\n",
      "Processing Record 25 of Set 10 | jiayuguan\n",
      "Processing Record 26 of Set 10 | dovers\n",
      "City not found. Skipping...\n",
      "Processing Record 27 of Set 10 | holoby\n",
      "City not found. Skipping...\n",
      "Processing Record 28 of Set 10 | sokoto\n",
      "Processing Record 29 of Set 10 | golden\n",
      "Processing Record 30 of Set 10 | gat\n",
      "Processing Record 31 of Set 10 | bertoua\n",
      "Processing Record 32 of Set 10 | guantanamo\n",
      "------------------------------\n",
      "Data Retrieval Complete\n",
      "------------------------------\n"
     ]
    }
   ],
   "source": [
    "# set lists for the dataframe\n",
    "city_list = []\n",
    "cloudinesses = []\n",
    "dates = []\n",
    "humidities = []\n",
    "lats = []\n",
    "lngs = []\n",
    "max_temps = []\n",
    "wind_speeds = []\n",
    "countries = []\n",
    "\n",
    "# set initial count quantities for organization\n",
    "count_one = 0\n",
    "set_one = 1\n",
    "\n",
    "# loops for creating dataframe columns\n",
    "for city in cities:\n",
    "    try:\n",
    "        response = requests.get(query_url + city.replace(\" \",\"&\")).json()\n",
    "        cloudinesses.append(response['clouds']['all'])\n",
    "        countries.append(response['sys']['country'])\n",
    "        dates.append(response['dt'])\n",
    "        humidities.append(response['main']['humidity'])\n",
    "        lats.append(response['coord']['lat'])\n",
    "        lngs.append(response['coord']['lon'])\n",
    "        max_temps.append(response['main']['temp_max'])\n",
    "        wind_speeds.append(response['wind']['speed'])\n",
    "        if count_one > 48:\n",
    "            count_one = 1\n",
    "            set_one += 1\n",
    "            city_list.append(city)\n",
    "        else:\n",
    "            count_one += 1\n",
    "            city_list.append(city)\n",
    "        print(f\"Processing Record {count_one} of Set {set_one} | {city}\")\n",
    "    except Exception:\n",
    "        print(\"City not found. Skipping...\")\n",
    "print(\"------------------------------\\nData Retrieval Complete\\n------------------------------\")"
   ]
  },
  {
   "cell_type": "code",
   "execution_count": null,
   "metadata": {},
   "outputs": [],
   "source": []
  },
  {
   "cell_type": "markdown",
   "metadata": {},
   "source": [
    "### Convert Raw Data to DataFrame\n",
    "* Export the city data into a .csv.\n",
    "* Display the DataFrame"
   ]
  },
  {
   "cell_type": "code",
   "execution_count": 19,
   "metadata": {},
   "outputs": [],
   "source": [
    "weather = {\n",
    "    \"City\":city_two,\n",
    "    \"Cloudiness\":cloudinesses,\n",
    "    \"Country\":countries,\n",
    "    \"Date\":dates,\n",
    "    \"Humidity\":humidities,\n",
    "    \"Lat\":lats,\n",
    "    \"Lng\":lngs,\n",
    "    \"Max Temp\":max_temps,\n",
    "    \"Wind Speed\":wind_speeds\n",
    "}\n"
   ]
  },
  {
   "cell_type": "code",
   "execution_count": 20,
   "metadata": {},
   "outputs": [],
   "source": [
    "#Create Data Frame\n",
    "weather_dataframe = pd.DataFrame(weather)"
   ]
  },
  {
   "cell_type": "code",
   "execution_count": 21,
   "metadata": {
    "scrolled": true
   },
   "outputs": [
    {
     "data": {
      "text/html": [
       "<div>\n",
       "<style scoped>\n",
       "    .dataframe tbody tr th:only-of-type {\n",
       "        vertical-align: middle;\n",
       "    }\n",
       "\n",
       "    .dataframe tbody tr th {\n",
       "        vertical-align: top;\n",
       "    }\n",
       "\n",
       "    .dataframe thead th {\n",
       "        text-align: right;\n",
       "    }\n",
       "</style>\n",
       "<table border=\"1\" class=\"dataframe\">\n",
       "  <thead>\n",
       "    <tr style=\"text-align: right;\">\n",
       "      <th></th>\n",
       "      <th>City</th>\n",
       "      <th>Cloudiness</th>\n",
       "      <th>Country</th>\n",
       "      <th>Date</th>\n",
       "      <th>Humidity</th>\n",
       "      <th>Lat</th>\n",
       "      <th>Lng</th>\n",
       "      <th>Max Temp</th>\n",
       "      <th>Wind Speed</th>\n",
       "    </tr>\n",
       "  </thead>\n",
       "  <tbody>\n",
       "    <tr>\n",
       "      <th>0</th>\n",
       "      <td>butaritari</td>\n",
       "      <td>1</td>\n",
       "      <td>KI</td>\n",
       "      <td>1601254150</td>\n",
       "      <td>80</td>\n",
       "      <td>3.07</td>\n",
       "      <td>172.79</td>\n",
       "      <td>82.11</td>\n",
       "      <td>17.13</td>\n",
       "    </tr>\n",
       "    <tr>\n",
       "      <th>1</th>\n",
       "      <td>bengkulu</td>\n",
       "      <td>99</td>\n",
       "      <td>ID</td>\n",
       "      <td>1601254151</td>\n",
       "      <td>76</td>\n",
       "      <td>-3.80</td>\n",
       "      <td>102.27</td>\n",
       "      <td>79.83</td>\n",
       "      <td>6.85</td>\n",
       "    </tr>\n",
       "    <tr>\n",
       "      <th>2</th>\n",
       "      <td>rikitea</td>\n",
       "      <td>0</td>\n",
       "      <td>PF</td>\n",
       "      <td>1601254151</td>\n",
       "      <td>78</td>\n",
       "      <td>-23.12</td>\n",
       "      <td>-134.97</td>\n",
       "      <td>74.62</td>\n",
       "      <td>11.88</td>\n",
       "    </tr>\n",
       "    <tr>\n",
       "      <th>3</th>\n",
       "      <td>mehamn</td>\n",
       "      <td>70</td>\n",
       "      <td>NO</td>\n",
       "      <td>1601254152</td>\n",
       "      <td>82</td>\n",
       "      <td>71.04</td>\n",
       "      <td>27.85</td>\n",
       "      <td>40.05</td>\n",
       "      <td>12.62</td>\n",
       "    </tr>\n",
       "    <tr>\n",
       "      <th>4</th>\n",
       "      <td>lagoa</td>\n",
       "      <td>50</td>\n",
       "      <td>PT</td>\n",
       "      <td>1601254153</td>\n",
       "      <td>88</td>\n",
       "      <td>39.05</td>\n",
       "      <td>-27.98</td>\n",
       "      <td>70.21</td>\n",
       "      <td>6.33</td>\n",
       "    </tr>\n",
       "  </tbody>\n",
       "</table>\n",
       "</div>"
      ],
      "text/plain": [
       "         City  Cloudiness Country        Date  Humidity    Lat     Lng  \\\n",
       "0  butaritari           1      KI  1601254150        80   3.07  172.79   \n",
       "1    bengkulu          99      ID  1601254151        76  -3.80  102.27   \n",
       "2     rikitea           0      PF  1601254151        78 -23.12 -134.97   \n",
       "3      mehamn          70      NO  1601254152        82  71.04   27.85   \n",
       "4       lagoa          50      PT  1601254153        88  39.05  -27.98   \n",
       "\n",
       "   Max Temp  Wind Speed  \n",
       "0     82.11       17.13  \n",
       "1     79.83        6.85  \n",
       "2     74.62       11.88  \n",
       "3     40.05       12.62  \n",
       "4     70.21        6.33  "
      ]
     },
     "execution_count": 21,
     "metadata": {},
     "output_type": "execute_result"
    }
   ],
   "source": [
    "weather_dataframe.head()"
   ]
  },
  {
   "cell_type": "code",
   "execution_count": 88,
   "metadata": {},
   "outputs": [],
   "source": [
    "# make csv file\n",
    "weather_dataframe.to_csv(output_data_file)"
   ]
  },
  {
   "cell_type": "code",
   "execution_count": 89,
   "metadata": {
    "scrolled": true
   },
   "outputs": [
    {
     "data": {
      "text/plain": [
       "City          473\n",
       "Cloudiness    473\n",
       "Country       473\n",
       "Date          473\n",
       "Humidity      473\n",
       "Lat           473\n",
       "Lng           473\n",
       "Max Temp      473\n",
       "Wind Speed    473\n",
       "dtype: int64"
      ]
     },
     "execution_count": 89,
     "metadata": {},
     "output_type": "execute_result"
    }
   ],
   "source": [
    "weather_dataframe.count()\n"
   ]
  },
  {
   "cell_type": "code",
   "execution_count": null,
   "metadata": {},
   "outputs": [],
   "source": []
  },
  {
   "cell_type": "code",
   "execution_count": 26,
   "metadata": {},
   "outputs": [
    {
     "data": {
      "text/html": [
       "<div>\n",
       "<style scoped>\n",
       "    .dataframe tbody tr th:only-of-type {\n",
       "        vertical-align: middle;\n",
       "    }\n",
       "\n",
       "    .dataframe tbody tr th {\n",
       "        vertical-align: top;\n",
       "    }\n",
       "\n",
       "    .dataframe thead th {\n",
       "        text-align: right;\n",
       "    }\n",
       "</style>\n",
       "<table border=\"1\" class=\"dataframe\">\n",
       "  <thead>\n",
       "    <tr style=\"text-align: right;\">\n",
       "      <th></th>\n",
       "      <th>Cloudiness</th>\n",
       "      <th>Date</th>\n",
       "      <th>Humidity</th>\n",
       "      <th>Lat</th>\n",
       "      <th>Lng</th>\n",
       "      <th>Max Temp</th>\n",
       "      <th>Wind Speed</th>\n",
       "    </tr>\n",
       "  </thead>\n",
       "  <tbody>\n",
       "    <tr>\n",
       "      <th>count</th>\n",
       "      <td>473.000000</td>\n",
       "      <td>4.730000e+02</td>\n",
       "      <td>473.000000</td>\n",
       "      <td>473.000000</td>\n",
       "      <td>473.000000</td>\n",
       "      <td>473.000000</td>\n",
       "      <td>473.000000</td>\n",
       "    </tr>\n",
       "    <tr>\n",
       "      <th>mean</th>\n",
       "      <td>49.245243</td>\n",
       "      <td>1.601254e+09</td>\n",
       "      <td>73.737844</td>\n",
       "      <td>20.078330</td>\n",
       "      <td>22.385137</td>\n",
       "      <td>62.912072</td>\n",
       "      <td>7.982495</td>\n",
       "    </tr>\n",
       "    <tr>\n",
       "      <th>std</th>\n",
       "      <td>40.481204</td>\n",
       "      <td>9.077672e+01</td>\n",
       "      <td>19.630134</td>\n",
       "      <td>33.298539</td>\n",
       "      <td>85.020448</td>\n",
       "      <td>15.520728</td>\n",
       "      <td>5.701459</td>\n",
       "    </tr>\n",
       "    <tr>\n",
       "      <th>min</th>\n",
       "      <td>0.000000</td>\n",
       "      <td>1.601254e+09</td>\n",
       "      <td>10.000000</td>\n",
       "      <td>-54.800000</td>\n",
       "      <td>-179.170000</td>\n",
       "      <td>13.210000</td>\n",
       "      <td>0.160000</td>\n",
       "    </tr>\n",
       "    <tr>\n",
       "      <th>25%</th>\n",
       "      <td>1.000000</td>\n",
       "      <td>1.601254e+09</td>\n",
       "      <td>64.000000</td>\n",
       "      <td>-7.030000</td>\n",
       "      <td>-46.650000</td>\n",
       "      <td>50.000000</td>\n",
       "      <td>3.890000</td>\n",
       "    </tr>\n",
       "    <tr>\n",
       "      <th>50%</th>\n",
       "      <td>44.000000</td>\n",
       "      <td>1.601254e+09</td>\n",
       "      <td>79.000000</td>\n",
       "      <td>22.240000</td>\n",
       "      <td>26.820000</td>\n",
       "      <td>64.530000</td>\n",
       "      <td>6.930000</td>\n",
       "    </tr>\n",
       "    <tr>\n",
       "      <th>75%</th>\n",
       "      <td>90.000000</td>\n",
       "      <td>1.601254e+09</td>\n",
       "      <td>88.000000</td>\n",
       "      <td>47.870000</td>\n",
       "      <td>83.270000</td>\n",
       "      <td>76.440000</td>\n",
       "      <td>10.330000</td>\n",
       "    </tr>\n",
       "    <tr>\n",
       "      <th>max</th>\n",
       "      <td>100.000000</td>\n",
       "      <td>1.601254e+09</td>\n",
       "      <td>100.000000</td>\n",
       "      <td>78.220000</td>\n",
       "      <td>179.320000</td>\n",
       "      <td>96.800000</td>\n",
       "      <td>43.460000</td>\n",
       "    </tr>\n",
       "  </tbody>\n",
       "</table>\n",
       "</div>"
      ],
      "text/plain": [
       "       Cloudiness          Date    Humidity         Lat         Lng  \\\n",
       "count  473.000000  4.730000e+02  473.000000  473.000000  473.000000   \n",
       "mean    49.245243  1.601254e+09   73.737844   20.078330   22.385137   \n",
       "std     40.481204  9.077672e+01   19.630134   33.298539   85.020448   \n",
       "min      0.000000  1.601254e+09   10.000000  -54.800000 -179.170000   \n",
       "25%      1.000000  1.601254e+09   64.000000   -7.030000  -46.650000   \n",
       "50%     44.000000  1.601254e+09   79.000000   22.240000   26.820000   \n",
       "75%     90.000000  1.601254e+09   88.000000   47.870000   83.270000   \n",
       "max    100.000000  1.601254e+09  100.000000   78.220000  179.320000   \n",
       "\n",
       "         Max Temp  Wind Speed  \n",
       "count  473.000000  473.000000  \n",
       "mean    62.912072    7.982495  \n",
       "std     15.520728    5.701459  \n",
       "min     13.210000    0.160000  \n",
       "25%     50.000000    3.890000  \n",
       "50%     64.530000    6.930000  \n",
       "75%     76.440000   10.330000  \n",
       "max     96.800000   43.460000  "
      ]
     },
     "execution_count": 26,
     "metadata": {},
     "output_type": "execute_result"
    }
   ],
   "source": [
    "weather_dataframe.describe()"
   ]
  },
  {
   "cell_type": "markdown",
   "metadata": {},
   "source": [
    "## Inspect the data and remove the cities where the humidity > 100%.\n",
    "----\n",
    "Skip this step if there are no cities that have humidity > 100%. "
   ]
  },
  {
   "cell_type": "code",
   "execution_count": 32,
   "metadata": {},
   "outputs": [
    {
     "data": {
      "text/html": [
       "<div>\n",
       "<style scoped>\n",
       "    .dataframe tbody tr th:only-of-type {\n",
       "        vertical-align: middle;\n",
       "    }\n",
       "\n",
       "    .dataframe tbody tr th {\n",
       "        vertical-align: top;\n",
       "    }\n",
       "\n",
       "    .dataframe thead th {\n",
       "        text-align: right;\n",
       "    }\n",
       "</style>\n",
       "<table border=\"1\" class=\"dataframe\">\n",
       "  <thead>\n",
       "    <tr style=\"text-align: right;\">\n",
       "      <th></th>\n",
       "      <th>City</th>\n",
       "      <th>Cloudiness</th>\n",
       "      <th>Country</th>\n",
       "      <th>Date</th>\n",
       "      <th>Humidity</th>\n",
       "      <th>Lat</th>\n",
       "      <th>Lng</th>\n",
       "      <th>Max Temp</th>\n",
       "      <th>Wind Speed</th>\n",
       "    </tr>\n",
       "  </thead>\n",
       "  <tbody>\n",
       "  </tbody>\n",
       "</table>\n",
       "</div>"
      ],
      "text/plain": [
       "Empty DataFrame\n",
       "Columns: [City, Cloudiness, Country, Date, Humidity, Lat, Lng, Max Temp, Wind Speed]\n",
       "Index: []"
      ]
     },
     "execution_count": 32,
     "metadata": {},
     "output_type": "execute_result"
    }
   ],
   "source": [
    "high_humidity=weather_dataframe.loc[weather_dataframe[\"Humidity\"]>100]\n",
    "high_humidity"
   ]
  },
  {
   "cell_type": "code",
   "execution_count": 17,
   "metadata": {},
   "outputs": [
    {
     "data": {
      "text/plain": [
       "Int64Index([], dtype='int64')"
      ]
     },
     "execution_count": 17,
     "metadata": {},
     "output_type": "execute_result"
    }
   ],
   "source": [
    "#  Get the indices of cities that have humidity over 100%.\n",
    "\n",
    "#There was no cities with humidity over 100"
   ]
  },
  {
   "cell_type": "markdown",
   "metadata": {},
   "source": [
    "## Plotting the Data\n",
    "* Use proper labeling of the plots using plot titles (including date of analysis) and axes labels.\n",
    "* Save the plotted figures as .pngs."
   ]
  },
  {
   "cell_type": "markdown",
   "metadata": {},
   "source": [
    "## Latitude vs. Temperature Plot"
   ]
  },
  {
   "cell_type": "code",
   "execution_count": 93,
   "metadata": {
    "scrolled": true
   },
   "outputs": [
    {
     "data": {
      "image/png": "[encoded data removed]",
      "text/plain": [
       "<Figure size 432x288 with 1 Axes>"
      ]
     },
     "metadata": {
      "needs_background": "light"
     },
     "output_type": "display_data"
    },
    {
     "data": {
      "text/plain": [
       "<Figure size 432x288 with 0 Axes>"
      ]
     },
     "metadata": {},
     "output_type": "display_data"
    }
   ],
   "source": [
    "\n",
    "plt.scatter(weather_dataframe[\"Lat\"],weather_dataframe[\"Max Temp\"],edgecolors=\"black\")\n",
    "plt.title(\"Latitude vs. Max Temp\")\n",
    "plt.xlabel(\"Latitude\")\n",
    "plt.ylabel(\"Max Temperature (F)\")\n",
    "plt.grid (b=True,which=\"major\",axis=\"both\",)\n",
    "plt.show()\n",
    "plt.savefig(\"../output_data/LatTemp.png\")\n",
    "\n"
   ]
  },
  {
   "cell_type": "markdown",
   "metadata": {},
   "source": [
    "The above plot is showing the relationship between Latitude and Max Temperature. As expected, the closer to the equator (0 latitude), the warmer the max temp is. "
   ]
  },
  {
   "cell_type": "markdown",
   "metadata": {},
   "source": [
    "## Latitude vs. Humidity Plot"
   ]
  },
  {
   "cell_type": "code",
   "execution_count": 94,
   "metadata": {
    "scrolled": true
   },
   "outputs": [
    {
     "data": {
      "image/png": "[encoded data removed]",
      "text/plain": [
       "<Figure size 432x288 with 1 Axes>"
      ]
     },
     "metadata": {
      "needs_background": "light"
     },
     "output_type": "display_data"
    },
    {
     "data": {
      "text/plain": [
       "<Figure size 432x288 with 0 Axes>"
      ]
     },
     "metadata": {},
     "output_type": "display_data"
    }
   ],
   "source": [
    "plt.scatter(weather_dataframe[\"Lat\"],weather_dataframe[\"Humidity\"],edgecolors=\"black\")\n",
    "plt.title(\"Latitude vs. Humidity\")\n",
    "plt.xlabel(\"Latitude\")\n",
    "plt.ylabel(\"Humidity (%)\")\n",
    "plt.ylim(15,105)\n",
    "plt.grid (b=True,which=\"major\",axis=\"both\")\n",
    "plt.show()\n",
    "plt.savefig(\"../output_data/LatHum.png\")\n",
    "\n"
   ]
  },
  {
   "cell_type": "markdown",
   "metadata": {},
   "source": [
    "The above plot is showing the relationship between Latitude and Humidity. What we can see from the scatter plot, is that there does not seem to be a coorrelation between latitude and humidity. Regardless of latitude, it seems that most areas have a high humidity rate. "
   ]
  },
  {
   "cell_type": "markdown",
   "metadata": {},
   "source": [
    "## Latitude vs. Cloudiness Plot"
   ]
  },
  {
   "cell_type": "code",
   "execution_count": 95,
   "metadata": {
    "scrolled": true
   },
   "outputs": [
    {
     "data": {
      "image/png": "[encoded data removed]",
      "text/plain": [
       "<Figure size 432x288 with 1 Axes>"
      ]
     },
     "metadata": {
      "needs_background": "light"
     },
     "output_type": "display_data"
    },
    {
     "data": {
      "text/plain": [
       "<Figure size 432x288 with 0 Axes>"
      ]
     },
     "metadata": {},
     "output_type": "display_data"
    }
   ],
   "source": [
    "plt.scatter(weather_dataframe[\"Lat\"],weather_dataframe[\"Cloudiness\"],edgecolors=\"black\")\n",
    "plt.title(\"Latitude vs. Cloudiness\")\n",
    "plt.xlabel(\"Latitude\")\n",
    "plt.ylabel(\"Cloudiness (%)\")\n",
    "plt.grid (b=True,which=\"major\",axis=\"both\",)\n",
    "plt.show()\n",
    "plt.savefig(\"../output_data/LatCloud.png\")\n",
    "\n"
   ]
  },
  {
   "cell_type": "markdown",
   "metadata": {},
   "source": [
    "The above scatterplot is showing the potential relationship between latitude and cloudiness.  What we can see is that there is alot of clustering around the 100% and 0% for cloudiness.  This could be due to reporting.  If it is cloudy or if there is no clouds, it is a clear cut decision; however, mostly cloudy or partly cloudy can be left up to the opinion of the person reporting. "
   ]
  },
  {
   "cell_type": "markdown",
   "metadata": {},
   "source": [
    "## Latitude vs. Wind Speed Plot"
   ]
  },
  {
   "cell_type": "code",
   "execution_count": 97,
   "metadata": {
    "scrolled": true
   },
   "outputs": [
    {
     "data": {
      "image/png": "[encoded data removed]",
      "text/plain": [
       "<Figure size 432x288 with 1 Axes>"
      ]
     },
     "metadata": {
      "needs_background": "light"
     },
     "output_type": "display_data"
    },
    {
     "data": {
      "text/plain": [
       "<Figure size 432x288 with 0 Axes>"
      ]
     },
     "metadata": {},
     "output_type": "display_data"
    }
   ],
   "source": [
    "plt.scatter(weather_dataframe[\"Lat\"],weather_dataframe[\"Wind Speed\"], edgecolors=\"black\")\n",
    "plt.title(\"Latitude vs. Wind Speed\")\n",
    "plt.xlabel(\"Latitude\")\n",
    "plt.ylabel(\"Wind Speed (mph)\")\n",
    "plt.ylim(-2,34)\n",
    "plt.grid (b=True,which=\"major\",axis=\"both\")\n",
    "plt.show()\n",
    "plt.savefig(\"../output_data/LatWind.png\")\n",
    "\n"
   ]
  },
  {
   "cell_type": "markdown",
   "metadata": {},
   "source": [
    "The above scatterplot is showing a potential relationship between latitude and wind speed.  "
   ]
  },
  {
   "cell_type": "markdown",
   "metadata": {},
   "source": [
    "## Linear Regression"
   ]
  },
  {
   "cell_type": "code",
   "execution_count": 58,
   "metadata": {},
   "outputs": [],
   "source": [
    "#Create northern and southern hemisphere data\n",
    "northern_hem=weather_dataframe.loc[weather_dataframe[\"Lat\"]>=0]\n",
    "southern_hem=weather_dataframe.loc[weather_dataframe[\"Lat\"]<=0]"
   ]
  },
  {
   "cell_type": "code",
   "execution_count": 59,
   "metadata": {
    "scrolled": true
   },
   "outputs": [
    {
     "data": {
      "text/html": [
       "<div>\n",
       "<style scoped>\n",
       "    .dataframe tbody tr th:only-of-type {\n",
       "        vertical-align: middle;\n",
       "    }\n",
       "\n",
       "    .dataframe tbody tr th {\n",
       "        vertical-align: top;\n",
       "    }\n",
       "\n",
       "    .dataframe thead th {\n",
       "        text-align: right;\n",
       "    }\n",
       "</style>\n",
       "<table border=\"1\" class=\"dataframe\">\n",
       "  <thead>\n",
       "    <tr style=\"text-align: right;\">\n",
       "      <th></th>\n",
       "      <th>City</th>\n",
       "      <th>Cloudiness</th>\n",
       "      <th>Country</th>\n",
       "      <th>Date</th>\n",
       "      <th>Humidity</th>\n",
       "      <th>Lat</th>\n",
       "      <th>Lng</th>\n",
       "      <th>Max Temp</th>\n",
       "      <th>Wind Speed</th>\n",
       "    </tr>\n",
       "  </thead>\n",
       "  <tbody>\n",
       "    <tr>\n",
       "      <th>0</th>\n",
       "      <td>butaritari</td>\n",
       "      <td>1</td>\n",
       "      <td>KI</td>\n",
       "      <td>1601254150</td>\n",
       "      <td>80</td>\n",
       "      <td>3.07</td>\n",
       "      <td>172.79</td>\n",
       "      <td>82.11</td>\n",
       "      <td>17.13</td>\n",
       "    </tr>\n",
       "    <tr>\n",
       "      <th>3</th>\n",
       "      <td>mehamn</td>\n",
       "      <td>70</td>\n",
       "      <td>NO</td>\n",
       "      <td>1601254152</td>\n",
       "      <td>82</td>\n",
       "      <td>71.04</td>\n",
       "      <td>27.85</td>\n",
       "      <td>40.05</td>\n",
       "      <td>12.62</td>\n",
       "    </tr>\n",
       "    <tr>\n",
       "      <th>4</th>\n",
       "      <td>lagoa</td>\n",
       "      <td>50</td>\n",
       "      <td>PT</td>\n",
       "      <td>1601254153</td>\n",
       "      <td>88</td>\n",
       "      <td>39.05</td>\n",
       "      <td>-27.98</td>\n",
       "      <td>70.21</td>\n",
       "      <td>6.33</td>\n",
       "    </tr>\n",
       "    <tr>\n",
       "      <th>5</th>\n",
       "      <td>mys shmidta</td>\n",
       "      <td>99</td>\n",
       "      <td>RU</td>\n",
       "      <td>1601254153</td>\n",
       "      <td>93</td>\n",
       "      <td>62.06</td>\n",
       "      <td>48.62</td>\n",
       "      <td>47.30</td>\n",
       "      <td>3.04</td>\n",
       "    </tr>\n",
       "    <tr>\n",
       "      <th>6</th>\n",
       "      <td>dikson</td>\n",
       "      <td>100</td>\n",
       "      <td>RU</td>\n",
       "      <td>1601254154</td>\n",
       "      <td>79</td>\n",
       "      <td>73.51</td>\n",
       "      <td>80.55</td>\n",
       "      <td>37.11</td>\n",
       "      <td>26.66</td>\n",
       "    </tr>\n",
       "    <tr>\n",
       "      <th>...</th>\n",
       "      <td>...</td>\n",
       "      <td>...</td>\n",
       "      <td>...</td>\n",
       "      <td>...</td>\n",
       "      <td>...</td>\n",
       "      <td>...</td>\n",
       "      <td>...</td>\n",
       "      <td>...</td>\n",
       "      <td>...</td>\n",
       "    </tr>\n",
       "    <tr>\n",
       "      <th>468</th>\n",
       "      <td>sokoto</td>\n",
       "      <td>3</td>\n",
       "      <td>NG</td>\n",
       "      <td>1601254397</td>\n",
       "      <td>66</td>\n",
       "      <td>13.06</td>\n",
       "      <td>5.24</td>\n",
       "      <td>80.01</td>\n",
       "      <td>7.72</td>\n",
       "    </tr>\n",
       "    <tr>\n",
       "      <th>469</th>\n",
       "      <td>golden</td>\n",
       "      <td>90</td>\n",
       "      <td>US</td>\n",
       "      <td>1601254398</td>\n",
       "      <td>53</td>\n",
       "      <td>39.76</td>\n",
       "      <td>-105.22</td>\n",
       "      <td>50.00</td>\n",
       "      <td>14.99</td>\n",
       "    </tr>\n",
       "    <tr>\n",
       "      <th>470</th>\n",
       "      <td>gat</td>\n",
       "      <td>0</td>\n",
       "      <td>IL</td>\n",
       "      <td>1601254201</td>\n",
       "      <td>79</td>\n",
       "      <td>31.61</td>\n",
       "      <td>34.76</td>\n",
       "      <td>77.00</td>\n",
       "      <td>5.03</td>\n",
       "    </tr>\n",
       "    <tr>\n",
       "      <th>471</th>\n",
       "      <td>bertoua</td>\n",
       "      <td>54</td>\n",
       "      <td>CM</td>\n",
       "      <td>1601254399</td>\n",
       "      <td>98</td>\n",
       "      <td>4.58</td>\n",
       "      <td>13.68</td>\n",
       "      <td>66.47</td>\n",
       "      <td>4.76</td>\n",
       "    </tr>\n",
       "    <tr>\n",
       "      <th>472</th>\n",
       "      <td>guantanamo</td>\n",
       "      <td>40</td>\n",
       "      <td>CU</td>\n",
       "      <td>1601254399</td>\n",
       "      <td>70</td>\n",
       "      <td>20.14</td>\n",
       "      <td>-75.21</td>\n",
       "      <td>86.00</td>\n",
       "      <td>9.17</td>\n",
       "    </tr>\n",
       "  </tbody>\n",
       "</table>\n",
       "<p>319 rows × 9 columns</p>\n",
       "</div>"
      ],
      "text/plain": [
       "            City  Cloudiness Country        Date  Humidity    Lat     Lng  \\\n",
       "0     butaritari           1      KI  1601254150        80   3.07  172.79   \n",
       "3         mehamn          70      NO  1601254152        82  71.04   27.85   \n",
       "4          lagoa          50      PT  1601254153        88  39.05  -27.98   \n",
       "5    mys shmidta          99      RU  1601254153        93  62.06   48.62   \n",
       "6         dikson         100      RU  1601254154        79  73.51   80.55   \n",
       "..           ...         ...     ...         ...       ...    ...     ...   \n",
       "468       sokoto           3      NG  1601254397        66  13.06    5.24   \n",
       "469       golden          90      US  1601254398        53  39.76 -105.22   \n",
       "470          gat           0      IL  1601254201        79  31.61   34.76   \n",
       "471      bertoua          54      CM  1601254399        98   4.58   13.68   \n",
       "472   guantanamo          40      CU  1601254399        70  20.14  -75.21   \n",
       "\n",
       "     Max Temp  Wind Speed  \n",
       "0       82.11       17.13  \n",
       "3       40.05       12.62  \n",
       "4       70.21        6.33  \n",
       "5       47.30        3.04  \n",
       "6       37.11       26.66  \n",
       "..        ...         ...  \n",
       "468     80.01        7.72  \n",
       "469     50.00       14.99  \n",
       "470     77.00        5.03  \n",
       "471     66.47        4.76  \n",
       "472     86.00        9.17  \n",
       "\n",
       "[319 rows x 9 columns]"
      ]
     },
     "execution_count": 59,
     "metadata": {},
     "output_type": "execute_result"
    }
   ],
   "source": [
    "northern_hem"
   ]
  },
  {
   "cell_type": "code",
   "execution_count": 60,
   "metadata": {
    "scrolled": true
   },
   "outputs": [
    {
     "data": {
      "text/html": [
       "<div>\n",
       "<style scoped>\n",
       "    .dataframe tbody tr th:only-of-type {\n",
       "        vertical-align: middle;\n",
       "    }\n",
       "\n",
       "    .dataframe tbody tr th {\n",
       "        vertical-align: top;\n",
       "    }\n",
       "\n",
       "    .dataframe thead th {\n",
       "        text-align: right;\n",
       "    }\n",
       "</style>\n",
       "<table border=\"1\" class=\"dataframe\">\n",
       "  <thead>\n",
       "    <tr style=\"text-align: right;\">\n",
       "      <th></th>\n",
       "      <th>City</th>\n",
       "      <th>Cloudiness</th>\n",
       "      <th>Country</th>\n",
       "      <th>Date</th>\n",
       "      <th>Humidity</th>\n",
       "      <th>Lat</th>\n",
       "      <th>Lng</th>\n",
       "      <th>Max Temp</th>\n",
       "      <th>Wind Speed</th>\n",
       "    </tr>\n",
       "  </thead>\n",
       "  <tbody>\n",
       "    <tr>\n",
       "      <th>1</th>\n",
       "      <td>bengkulu</td>\n",
       "      <td>99</td>\n",
       "      <td>ID</td>\n",
       "      <td>1601254151</td>\n",
       "      <td>76</td>\n",
       "      <td>-3.80</td>\n",
       "      <td>102.27</td>\n",
       "      <td>79.83</td>\n",
       "      <td>6.85</td>\n",
       "    </tr>\n",
       "    <tr>\n",
       "      <th>2</th>\n",
       "      <td>rikitea</td>\n",
       "      <td>0</td>\n",
       "      <td>PF</td>\n",
       "      <td>1601254151</td>\n",
       "      <td>78</td>\n",
       "      <td>-23.12</td>\n",
       "      <td>-134.97</td>\n",
       "      <td>74.62</td>\n",
       "      <td>11.88</td>\n",
       "    </tr>\n",
       "    <tr>\n",
       "      <th>8</th>\n",
       "      <td>avarua</td>\n",
       "      <td>0</td>\n",
       "      <td>CK</td>\n",
       "      <td>1601254120</td>\n",
       "      <td>65</td>\n",
       "      <td>-21.21</td>\n",
       "      <td>-159.78</td>\n",
       "      <td>77.00</td>\n",
       "      <td>12.75</td>\n",
       "    </tr>\n",
       "    <tr>\n",
       "      <th>12</th>\n",
       "      <td>farafangana</td>\n",
       "      <td>61</td>\n",
       "      <td>MG</td>\n",
       "      <td>1601254157</td>\n",
       "      <td>89</td>\n",
       "      <td>-22.82</td>\n",
       "      <td>47.83</td>\n",
       "      <td>68.70</td>\n",
       "      <td>6.31</td>\n",
       "    </tr>\n",
       "    <tr>\n",
       "      <th>13</th>\n",
       "      <td>castro</td>\n",
       "      <td>100</td>\n",
       "      <td>BR</td>\n",
       "      <td>1601254158</td>\n",
       "      <td>80</td>\n",
       "      <td>-24.79</td>\n",
       "      <td>-50.01</td>\n",
       "      <td>65.61</td>\n",
       "      <td>5.39</td>\n",
       "    </tr>\n",
       "    <tr>\n",
       "      <th>...</th>\n",
       "      <td>...</td>\n",
       "      <td>...</td>\n",
       "      <td>...</td>\n",
       "      <td>...</td>\n",
       "      <td>...</td>\n",
       "      <td>...</td>\n",
       "      <td>...</td>\n",
       "      <td>...</td>\n",
       "      <td>...</td>\n",
       "    </tr>\n",
       "    <tr>\n",
       "      <th>442</th>\n",
       "      <td>codrington</td>\n",
       "      <td>0</td>\n",
       "      <td>AU</td>\n",
       "      <td>1601254384</td>\n",
       "      <td>65</td>\n",
       "      <td>-38.27</td>\n",
       "      <td>141.97</td>\n",
       "      <td>53.19</td>\n",
       "      <td>6.58</td>\n",
       "    </tr>\n",
       "    <tr>\n",
       "      <th>445</th>\n",
       "      <td>itacare</td>\n",
       "      <td>0</td>\n",
       "      <td>BR</td>\n",
       "      <td>1601254385</td>\n",
       "      <td>85</td>\n",
       "      <td>-14.28</td>\n",
       "      <td>-39.00</td>\n",
       "      <td>70.66</td>\n",
       "      <td>2.51</td>\n",
       "    </tr>\n",
       "    <tr>\n",
       "      <th>451</th>\n",
       "      <td>saint-leu</td>\n",
       "      <td>0</td>\n",
       "      <td>RE</td>\n",
       "      <td>1601254388</td>\n",
       "      <td>64</td>\n",
       "      <td>-21.15</td>\n",
       "      <td>55.28</td>\n",
       "      <td>68.00</td>\n",
       "      <td>6.93</td>\n",
       "    </tr>\n",
       "    <tr>\n",
       "      <th>453</th>\n",
       "      <td>videira</td>\n",
       "      <td>100</td>\n",
       "      <td>BR</td>\n",
       "      <td>1601254389</td>\n",
       "      <td>89</td>\n",
       "      <td>-27.01</td>\n",
       "      <td>-51.15</td>\n",
       "      <td>63.46</td>\n",
       "      <td>4.41</td>\n",
       "    </tr>\n",
       "    <tr>\n",
       "      <th>464</th>\n",
       "      <td>namibe</td>\n",
       "      <td>16</td>\n",
       "      <td>AO</td>\n",
       "      <td>1601254394</td>\n",
       "      <td>89</td>\n",
       "      <td>-15.20</td>\n",
       "      <td>12.15</td>\n",
       "      <td>61.43</td>\n",
       "      <td>3.83</td>\n",
       "    </tr>\n",
       "  </tbody>\n",
       "</table>\n",
       "<p>154 rows × 9 columns</p>\n",
       "</div>"
      ],
      "text/plain": [
       "            City  Cloudiness Country        Date  Humidity    Lat     Lng  \\\n",
       "1       bengkulu          99      ID  1601254151        76  -3.80  102.27   \n",
       "2        rikitea           0      PF  1601254151        78 -23.12 -134.97   \n",
       "8         avarua           0      CK  1601254120        65 -21.21 -159.78   \n",
       "12   farafangana          61      MG  1601254157        89 -22.82   47.83   \n",
       "13        castro         100      BR  1601254158        80 -24.79  -50.01   \n",
       "..           ...         ...     ...         ...       ...    ...     ...   \n",
       "442   codrington           0      AU  1601254384        65 -38.27  141.97   \n",
       "445      itacare           0      BR  1601254385        85 -14.28  -39.00   \n",
       "451    saint-leu           0      RE  1601254388        64 -21.15   55.28   \n",
       "453      videira         100      BR  1601254389        89 -27.01  -51.15   \n",
       "464       namibe          16      AO  1601254394        89 -15.20   12.15   \n",
       "\n",
       "     Max Temp  Wind Speed  \n",
       "1       79.83        6.85  \n",
       "2       74.62       11.88  \n",
       "8       77.00       12.75  \n",
       "12      68.70        6.31  \n",
       "13      65.61        5.39  \n",
       "..        ...         ...  \n",
       "442     53.19        6.58  \n",
       "445     70.66        2.51  \n",
       "451     68.00        6.93  \n",
       "453     63.46        4.41  \n",
       "464     61.43        3.83  \n",
       "\n",
       "[154 rows x 9 columns]"
      ]
     },
     "execution_count": 60,
     "metadata": {},
     "output_type": "execute_result"
    }
   ],
   "source": [
    "southern_hem"
   ]
  },
  {
   "cell_type": "markdown",
   "metadata": {},
   "source": [
    "####  Northern Hemisphere - Max Temp vs. Latitude Linear Regression"
   ]
  },
  {
   "cell_type": "code",
   "execution_count": 107,
   "metadata": {
    "scrolled": true
   },
   "outputs": [
    {
     "name": "stdout",
     "output_type": "stream",
     "text": [
      "The r-value is: 0.6814421406398886\n",
      "y = -0.66x + 86.55\n"
     ]
    },
    {
     "data": {
      "image/png": "[encoded data removed]",
      "text/plain": [
       "<Figure size 432x288 with 1 Axes>"
      ]
     },
     "metadata": {
      "needs_background": "light"
     },
     "output_type": "display_data"
    }
   ],
   "source": [
    "# Add the linear regression equation and line to plot\n",
    "x_values = northern_hem['Lat']\n",
    "y_values = northern_hem['Max Temp']\n",
    "(slope, intercept, rvalue, pvalue, stderr) = linregress(x_values, y_values)\n",
    "regress_values = x_values * slope + intercept\n",
    "line_eq = \"y = \" + str(round(slope,2)) + \"x + \" + str(round(intercept,2))\n",
    "plt.scatter(x_values,y_values)\n",
    "plt.plot(x_values,regress_values,\"r-\")\n",
    "plt.annotate(line_eq,(6,10),fontsize=15,color=\"red\")\n",
    "plt.title(\"Latitude vs. Max Temp - Northern Hemisphere\")\n",
    "plt.xlabel('Latitude')\n",
    "plt.ylabel('Max Temperature')\n",
    "print(f\"The r-value is: {rvalue**2}\")\n",
    "print(line_eq)\n",
    "plt.show()"
   ]
  },
  {
   "cell_type": "markdown",
   "metadata": {},
   "source": [
    "The above scatter plot shows a strong, negative coorelation between the latitude of the Northern Hemisphere cities and their respective max temperatures.  The r-value is .68, which means 68% of the variances of data are accounted for by the regression line. Overall, it can be assumed that the further away from the equator (latitude 0), the cooler the max temp. "
   ]
  },
  {
   "cell_type": "markdown",
   "metadata": {},
   "source": [
    "####  Southern Hemisphere - Max Temp vs. Latitude Linear Regression"
   ]
  },
  {
   "cell_type": "code",
   "execution_count": 108,
   "metadata": {
    "scrolled": true
   },
   "outputs": [
    {
     "name": "stdout",
     "output_type": "stream",
     "text": [
      "The r-value is: 0.568291608095557\n",
      "y = -0.66x + 86.55\n"
     ]
    },
    {
     "data": {
      "image/png": "[encoded data removed]",
      "text/plain": [
       "<Figure size 432x288 with 1 Axes>"
      ]
     },
     "metadata": {
      "needs_background": "light"
     },
     "output_type": "display_data"
    }
   ],
   "source": [
    "# Add the linear regression equation and line to plot\n",
    "x_values = southern_hem['Lat']\n",
    "y_values = southern_hem['Max Temp']\n",
    "(slope, intercept, rvalue, pvalue, stderr) = linregress(x_values, y_values)\n",
    "regress_values = x_values * slope + intercept\n",
    "line_eq2 = \"y = \" + str(round(slope,2)) + \"x + \" + str(round(intercept,2))\n",
    "plt.scatter(x_values,y_values)\n",
    "plt.plot(x_values,regress_values,\"r-\")\n",
    "plt.annotate(line_eq2,(6,10),fontsize=15,color=\"red\")\n",
    "plt.title(\"Latitude vs. Max Temp - Southern Hemisphere\")\n",
    "plt.xlabel('Latitude')\n",
    "plt.ylabel('Max Temperature')\n",
    "print(f\"The r-value is: {rvalue**2}\")\n",
    "print(line_eq)\n",
    "plt.show()"
   ]
  },
  {
   "cell_type": "markdown",
   "metadata": {},
   "source": [
    "The scatterplot above is showing that there is a positive coorelation between the Southern Hemisphere Cities' latitude and max temperature.  The r-value is not as strong as in the Northern Hemisphere at only .57, but that means 57% of the data is explained by the regression model. "
   ]
  },
  {
   "cell_type": "markdown",
   "metadata": {},
   "source": [
    "####  Northern Hemisphere - Humidity (%) vs. Latitude Linear Regression"
   ]
  },
  {
   "cell_type": "code",
   "execution_count": 109,
   "metadata": {
    "scrolled": true
   },
   "outputs": [
    {
     "name": "stdout",
     "output_type": "stream",
     "text": [
      "The r-value is: 0.005184428651796792\n",
      "y = 0.07x + 72.09\n"
     ]
    },
    {
     "data": {
      "image/png": "[encoded data removed]",
      "text/plain": [
       "<Figure size 432x288 with 1 Axes>"
      ]
     },
     "metadata": {
      "needs_background": "light"
     },
     "output_type": "display_data"
    }
   ],
   "source": [
    "# Add the linear regression equation and line to plot\n",
    "x_values = northern_hem['Lat']\n",
    "y_values = northern_hem['Humidity']\n",
    "(slope, intercept, rvalue, pvalue, stderr) = linregress(x_values, y_values)\n",
    "regress_values = x_values * slope + intercept\n",
    "line_eq = \"y = \" + str(round(slope,2)) + \"x + \" + str(round(intercept,2))\n",
    "plt.scatter(x_values,y_values)\n",
    "plt.plot(x_values,regress_values,\"r-\")\n",
    "plt.annotate(line_eq,(6,10),fontsize=15,color=\"red\")\n",
    "plt.title(\"Latitude vs. Humidity - Northern Hemisphere\")\n",
    "plt.xlabel('Latitude')\n",
    "plt.ylabel('Humidity')\n",
    "print(f\"The r-value is: {rvalue**2}\")\n",
    "print(line_eq)\n",
    "plt.show()"
   ]
  },
  {
   "cell_type": "markdown",
   "metadata": {},
   "source": [
    "The above scatterplot is comparing the latitude and the humidity level.  There appears to be no coorelation betweel these values as the r-value is .005."
   ]
  },
  {
   "cell_type": "markdown",
   "metadata": {},
   "source": [
    "####  Southern Hemisphere - Humidity (%) vs. Latitude Linear Regression"
   ]
  },
  {
   "cell_type": "code",
   "execution_count": 110,
   "metadata": {
    "scrolled": true
   },
   "outputs": [
    {
     "name": "stdout",
     "output_type": "stream",
     "text": [
      "The r-value is: 0.006343143084686638\n",
      "y = 0.07x + 72.09\n"
     ]
    },
    {
     "data": {
      "image/png": "[encoded data removed]",
      "text/plain": [
       "<Figure size 432x288 with 1 Axes>"
      ]
     },
     "metadata": {
      "needs_background": "light"
     },
     "output_type": "display_data"
    }
   ],
   "source": [
    "# Add the linear regression equation and line to plot\n",
    "x_values = southern_hem['Lat']\n",
    "y_values = southern_hem['Humidity']\n",
    "(slope, intercept, rvalue, pvalue, stderr) = linregress(x_values, y_values)\n",
    "regress_values = x_values * slope + intercept\n",
    "line_eq2 = \"y = \" + str(round(slope,2)) + \"x + \" + str(round(intercept,2))\n",
    "plt.scatter(x_values,y_values)\n",
    "plt.plot(x_values,regress_values,\"r-\")\n",
    "plt.annotate(line_eq2,(6,10),fontsize=15,color=\"red\")\n",
    "plt.title(\"Latitude vs. Humidity - Southern Hemisphere\")\n",
    "plt.xlabel('Latitude')\n",
    "plt.ylabel('Humidity')\n",
    "print(f\"The r-value is: {rvalue**2}\")\n",
    "print(line_eq)\n",
    "plt.show()"
   ]
  },
  {
   "cell_type": "markdown",
   "metadata": {},
   "source": [
    "The above scatterplot compares the latitudes and humidities of the Southern Hemisphere cities.  THere is no coorrelation between the data, which is highlighted by the r-value of .006.  Less than 1% of the data is explained by the regression line. "
   ]
  },
  {
   "cell_type": "markdown",
   "metadata": {},
   "source": [
    "####  Northern Hemisphere - Cloudiness (%) vs. Latitude Linear Regression"
   ]
  },
  {
   "cell_type": "code",
   "execution_count": 111,
   "metadata": {
    "scrolled": true
   },
   "outputs": [
    {
     "name": "stdout",
     "output_type": "stream",
     "text": [
      "The r-value is: 0.004925220023729734\n",
      "y = 0.14x + 44.74\n"
     ]
    },
    {
     "data": {
      "image/png": "[encoded data removed]",
      "text/plain": [
       "<Figure size 432x288 with 1 Axes>"
      ]
     },
     "metadata": {
      "needs_background": "light"
     },
     "output_type": "display_data"
    }
   ],
   "source": [
    "# Add the linear regression equation and line to plot\n",
    "x_values = northern_hem['Lat']\n",
    "y_values = northern_hem['Cloudiness']\n",
    "(slope, intercept, rvalue, pvalue, stderr) = linregress(x_values, y_values)\n",
    "regress_values = x_values * slope + intercept\n",
    "line_eq = \"y = \" + str(round(slope,2)) + \"x + \" + str(round(intercept,2))\n",
    "plt.scatter(x_values,y_values)\n",
    "plt.plot(x_values,regress_values,\"r-\")\n",
    "plt.annotate(line_eq,(6,10),fontsize=15,color=\"red\")\n",
    "plt.title(\"Latitude vs. Cloudiness - Northern Hemisphere\")\n",
    "plt.xlabel('Latitude')\n",
    "plt.ylabel('Cloudiness')\n",
    "print(f\"The r-value is: {rvalue**2}\")\n",
    "print(line_eq)\n",
    "plt.show()"
   ]
  },
  {
   "cell_type": "markdown",
   "metadata": {},
   "source": [
    "Above, the scatterplot is showing a comparison of the latitude and the cloud cover percentage.  There appears to be no coorrelation of the data, which can be highlighted by the r-value of .004, meaning less than 1% of the data is explained by the regression line.  In my opinion, there is a high cluster of data at the 100% and 0% coverage mark.  This could be due to the reporting of cloudiness as either \"cloudy\" or \"no clouds\", while the middle area of \"partly cloudy\" or \"mostly cloudy\" is a less clear when reporting. "
   ]
  },
  {
   "cell_type": "markdown",
   "metadata": {},
   "source": [
    "####  Southern Hemisphere - Cloudiness (%) vs. Latitude Linear Regression"
   ]
  },
  {
   "cell_type": "code",
   "execution_count": 112,
   "metadata": {
    "scrolled": true
   },
   "outputs": [
    {
     "name": "stdout",
     "output_type": "stream",
     "text": [
      "The r-value is: 0.008344432770063862\n",
      "y = 0.14x + 44.74\n"
     ]
    },
    {
     "data": {
      "image/png": "[encoded data removed]",
      "text/plain": [
       "<Figure size 432x288 with 1 Axes>"
      ]
     },
     "metadata": {
      "needs_background": "light"
     },
     "output_type": "display_data"
    }
   ],
   "source": [
    "# Add the linear regression equation and line to plot\n",
    "x_values = southern_hem['Lat']\n",
    "y_values = southern_hem['Cloudiness']\n",
    "(slope, intercept, rvalue, pvalue, stderr) = linregress(x_values, y_values)\n",
    "regress_values = x_values * slope + intercept\n",
    "line_eq2 = \"y = \" + str(round(slope,2)) + \"x + \" + str(round(intercept,2))\n",
    "plt.scatter(x_values,y_values)\n",
    "plt.plot(x_values,regress_values,\"r-\")\n",
    "plt.annotate(line_eq2,(6,10),fontsize=15,color=\"red\")\n",
    "plt.title(\"Latitude vs. Cloudiness - Southern Hemisphere\")\n",
    "plt.xlabel('Latitude')\n",
    "plt.ylabel('Cloudiness')\n",
    "print(f\"The r-value is: {rvalue**2}\")\n",
    "print(line_eq)\n",
    "plt.show()"
   ]
  },
  {
   "cell_type": "markdown",
   "metadata": {},
   "source": [
    "Above, the scatterplot is showing a comparison of the latitude and the cloud cover percentage.  There appears to be no coorrelation of the data, which can be highlighted by the r-value of .004, meaning less than 1% of the data is explained by the regression line.  In my opinion, there is a high cluster of data at the 100% and 0% coverage mark.  This could be due to the reporting of cloudiness as either \"cloudy\" or \"no clouds\", while the middle area of \"partly cloudy\" or \"mostly cloudy\" is a less clear when reporting. "
   ]
  },
  {
   "cell_type": "markdown",
   "metadata": {},
   "source": [
    "####  Northern Hemisphere - Wind Speed (mph) vs. Latitude Linear Regression"
   ]
  },
  {
   "cell_type": "code",
   "execution_count": 113,
   "metadata": {
    "scrolled": true
   },
   "outputs": [
    {
     "name": "stdout",
     "output_type": "stream",
     "text": [
      "The r-value is: 0.06964066233223848\n",
      "y = 0.08x + 4.83\n"
     ]
    },
    {
     "data": {
      "image/png": "[encoded data removed]",
      "text/plain": [
       "<Figure size 432x288 with 1 Axes>"
      ]
     },
     "metadata": {
      "needs_background": "light"
     },
     "output_type": "display_data"
    }
   ],
   "source": [
    "# Add the linear regression equation and line to plot\n",
    "x_values = northern_hem['Lat']\n",
    "y_values = northern_hem['Wind Speed']\n",
    "(slope, intercept, rvalue, pvalue, stderr) = linregress(x_values, y_values)\n",
    "regress_values = x_values * slope + intercept\n",
    "line_eq = \"y = \" + str(round(slope,2)) + \"x + \" + str(round(intercept,2))\n",
    "plt.scatter(x_values,y_values)\n",
    "plt.plot(x_values,regress_values,\"r-\")\n",
    "plt.annotate(line_eq,(6,10),fontsize=15,color=\"red\")\n",
    "plt.title(\"Latitude vs. Wind Speed - Northern Hemisphere\")\n",
    "plt.xlabel('Latitude')\n",
    "plt.ylabel('Wind Speed')\n",
    "print(f\"The r-value is: {rvalue**2}\")\n",
    "print(line_eq)\n",
    "plt.show()"
   ]
  },
  {
   "cell_type": "markdown",
   "metadata": {},
   "source": [
    "The above scatterplot is comparing the latitude and wind speed in the Northern Hemisphere.  The r-value is .06, showing a very weak, positive coorelation .  There is a high cluster of data for all latitudes at the 0-10 mph range, which seems to be a common wind speed.  It can be noted that the outliers of high wind speeds do seem to be at the further latitudes from the equator. "
   ]
  },
  {
   "cell_type": "markdown",
   "metadata": {},
   "source": [
    "####  Southern Hemisphere - Wind Speed (mph) vs. Latitude Linear Regression"
   ]
  },
  {
   "cell_type": "code",
   "execution_count": 114,
   "metadata": {},
   "outputs": [
    {
     "name": "stdout",
     "output_type": "stream",
     "text": [
      "The r-value is: 0.11978004582016105\n",
      "y = 0.08x + 4.83\n"
     ]
    },
    {
     "data": {
      "image/png": "[encoded data removed]",
      "text/plain": [
       "<Figure size 432x288 with 1 Axes>"
      ]
     },
     "metadata": {
      "needs_background": "light"
     },
     "output_type": "display_data"
    }
   ],
   "source": [
    "# Add the linear regression equation and line to plot\n",
    "x_values = southern_hem['Lat']\n",
    "y_values = southern_hem['Wind Speed']\n",
    "(slope, intercept, rvalue, pvalue, stderr) = linregress(x_values, y_values)\n",
    "regress_values = x_values * slope + intercept\n",
    "line_eq2 = \"y = \" + str(round(slope,2)) + \"x + \" + str(round(intercept,2))\n",
    "plt.scatter(x_values,y_values)\n",
    "plt.plot(x_values,regress_values,\"r-\")\n",
    "plt.annotate(line_eq2,(6,10),fontsize=15,color=\"red\")\n",
    "plt.title(\"Latitude vs. Wind Speed - Southern Hemisphere\")\n",
    "plt.xlabel('Latitude')\n",
    "plt.ylabel('Wind Speed')\n",
    "print(f\"The r-value is: {rvalue**2}\")\n",
    "print(line_eq)\n",
    "plt.show()"
   ]
  },
  {
   "cell_type": "markdown",
   "metadata": {},
   "source": [
    "The above scatterplot is comparing the latitude and wind speed in the Southern Hemisphere.  The r-value is .11, showing a very weak, negative correlation .  There is a high cluster of data for all latitudes at the 0-15 mph range, which seems to be a common wind speed.  It can be noted that the outliers of high wind speeds do seem to be at the further latitudes from the equator. "
   ]
  }
 ],
 "metadata": {
  "anaconda-cloud": {},
  "kernel_info": {
   "name": "python3"
  },
  "kernelspec": {
   "display_name": "Python 3",
   "language": "python",
   "name": "python3"
  },
  "language_info": {
   "codemirror_mode": {
    "name": "ipython",
    "version": 3
   },
   "file_extension": ".py",
   "mimetype": "text/x-python",
   "name": "python",
   "nbconvert_exporter": "python",
   "pygments_lexer": "ipython3",
   "version": "3.8.3"
  },
  "latex_envs": {
   "LaTeX_envs_menu_present": true,
   "autoclose": false,
   "autocomplete": true,
   "bibliofile": "biblio.bib",
   "cite_by": "apalike",
   "current_citInitial": 1,
   "eqLabelWithNumbers": true,
   "eqNumInitial": 1,
   "hotkeys": {
    "equation": "Ctrl-E",
    "itemize": "Ctrl-I"
   },
   "labels_anchors": false,
   "latex_user_defs": false,
   "report_style_numbering": false,
   "user_envs_cfg": false
  },
  "nteract": {
   "version": "0.12.3"
  }
 },
 "nbformat": 4,
 "nbformat_minor": 2
}
